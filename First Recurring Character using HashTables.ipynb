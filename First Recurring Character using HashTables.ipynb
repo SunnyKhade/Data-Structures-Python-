{
 "cells": [
  {
   "cell_type": "markdown",
   "metadata": {},
   "source": [
    "### First Recurring Character "
   ]
  },
  {
   "cell_type": "code",
   "execution_count": 4,
   "metadata": {},
   "outputs": [
    {
     "data": {
      "text/plain": [
       "5"
      ]
     },
     "execution_count": 4,
     "metadata": {},
     "output_type": "execute_result"
    }
   ],
   "source": [
    "L1 = [2,5,1,7,3,5,1,7,4]\n",
    "\n",
    "def Rec(myList):\n",
    "    for i in range(0, len(myList)):\n",
    "        for j in range(i+1, len(myList)):\n",
    "            if myList[i] == myList[j]:\n",
    "                return myList[i]\n",
    "    return[0]\n",
    "\n",
    "Rec(L1)\n",
    "    "
   ]
  },
  {
   "cell_type": "markdown",
   "metadata": {},
   "source": [
    "### Using Hashtables"
   ]
  },
  {
   "cell_type": "code",
   "execution_count": 6,
   "metadata": {},
   "outputs": [
    {
     "data": {
      "text/plain": [
       "2"
      ]
     },
     "execution_count": 6,
     "metadata": {},
     "output_type": "execute_result"
    }
   ],
   "source": [
    "L2 = [1,2,3,2,4,4,5]\n",
    "\n",
    "def hashtable(myList):\n",
    "    myDict={}\n",
    "    for i in range(0, len(myList)):\n",
    "        if myList[i] in myDict:\n",
    "            return myList[i]\n",
    "        else:\n",
    "            myDict[myList[i]]=i\n",
    "    return 0\n",
    "\n",
    "hashtable(L2)"
   ]
  },
  {
   "cell_type": "code",
   "execution_count": null,
   "metadata": {},
   "outputs": [],
   "source": []
  }
 ],
 "metadata": {
  "kernelspec": {
   "display_name": "Python 3",
   "language": "python",
   "name": "python3"
  },
  "language_info": {
   "codemirror_mode": {
    "name": "ipython",
    "version": 3
   },
   "file_extension": ".py",
   "mimetype": "text/x-python",
   "name": "python",
   "nbconvert_exporter": "python",
   "pygments_lexer": "ipython3",
   "version": "3.8.3"
  }
 },
 "nbformat": 4,
 "nbformat_minor": 4
}
