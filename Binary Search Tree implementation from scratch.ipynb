{
 "cells": [
  {
   "cell_type": "markdown",
   "metadata": {},
   "source": [
    "### Binary Search Tree implementation from scratch"
   ]
  },
  {
   "cell_type": "code",
   "execution_count": 16,
   "metadata": {},
   "outputs": [
    {
     "name": "stdout",
     "output_type": "stream",
     "text": [
      "20\n",
      "30\n",
      "100\n",
      "150\n",
      "200\n"
     ]
    }
   ],
   "source": [
    "class Node():\n",
    "    def __init__(self,data):\n",
    "        self.data=data\n",
    "        self.left=None\n",
    "        self.right=None\n",
    "\n",
    "class Binarysearchtree():\n",
    "    def __init__(self):\n",
    "        self.root=None\n",
    "        \n",
    "    def insert(self,data):\n",
    "        new_node= Node(data)\n",
    "        if self.root==None:\n",
    "            self.root=new_node\n",
    "            return\n",
    "        else:\n",
    "            curr_node=self.root\n",
    "            while True:\n",
    "                if data < curr_node.data:\n",
    "                    if curr_node.left==None:\n",
    "                        curr_node.left=new_node\n",
    "                        return\n",
    "                    else:\n",
    "                        curr_node=curr_node.left\n",
    "                elif data > curr_node.data:\n",
    "                    if curr_node.right==None:\n",
    "                        curr_node.right=new_node\n",
    "                        return\n",
    "                    else:\n",
    "                        curr_node=curr_node.right\n",
    "                    \n",
    "    def lookup(self,data):\n",
    "        curr_node=self.root\n",
    "        while True:\n",
    "            if curr_node==None:\n",
    "                 return False\n",
    "            elif curr_node.data == data:\n",
    "                return True\n",
    "            elif data < curr_node.data:\n",
    "                curr_node=curr_node.left\n",
    "            else:\n",
    "                curr_node=curr_node.right\n",
    "                    \n",
    "    def print_tree(self):\n",
    "        if self.root!=None:\n",
    "            self.printt(self.root)\n",
    "                \n",
    "    def printt(self,curr_node):\n",
    "        if curr_node !=None:\n",
    "            self.printt(curr_node.left)\n",
    "            print(curr_node.data)\n",
    "            self.printt(curr_node.right)\n",
    "                \n",
    "bst=Binarysearchtree()\n",
    "bst.insert(100)\n",
    "bst.insert(20)\n",
    "bst.insert(30)\n",
    "bst.insert(200)\n",
    "bst.insert(150)\n",
    "bst.lookup(100)\n",
    "bst.lookup(1)\n",
    "bst.print_tree()           "
   ]
  },
  {
   "cell_type": "code",
   "execution_count": null,
   "metadata": {},
   "outputs": [],
   "source": []
  }
 ],
 "metadata": {
  "kernelspec": {
   "display_name": "Python 3",
   "language": "python",
   "name": "python3"
  },
  "language_info": {
   "codemirror_mode": {
    "name": "ipython",
    "version": 3
   },
   "file_extension": ".py",
   "mimetype": "text/x-python",
   "name": "python",
   "nbconvert_exporter": "python",
   "pygments_lexer": "ipython3",
   "version": "3.8.3"
  }
 },
 "nbformat": 4,
 "nbformat_minor": 4
}
