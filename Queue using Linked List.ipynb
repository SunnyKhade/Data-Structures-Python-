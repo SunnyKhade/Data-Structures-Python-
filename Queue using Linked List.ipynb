{
 "cells": [
  {
   "cell_type": "markdown",
   "metadata": {},
   "source": [
    "### Queue using Linked List"
   ]
  },
  {
   "cell_type": "code",
   "execution_count": 12,
   "metadata": {},
   "outputs": [
    {
     "name": "stdout",
     "output_type": "stream",
     "text": [
      "20 -> 30 -> 40 -> \n",
      "lenght: 3\n"
     ]
    }
   ],
   "source": [
    "class Node():\n",
    "    def __init__(self,data):\n",
    "        self.data=data\n",
    "        self.next=None\n",
    "        \n",
    "class queue():\n",
    "    def __init__(self):\n",
    "        self.first=None\n",
    "        self.last=None\n",
    "        self.length=0\n",
    "    \n",
    "    def peek(self):\n",
    "        return self.first.data\n",
    "    \n",
    "    def enqueue(self,data):\n",
    "        new_node=Node(data)\n",
    "        if self.first==None:\n",
    "            self.first=new_node\n",
    "            self.last=self.first\n",
    "            self.length+=1\n",
    "        else:\n",
    "            self.last.next=new_node\n",
    "            self.last=new_node\n",
    "            self.length+=1\n",
    "            \n",
    "    def dequeue(self):\n",
    "        temp=self.first.next\n",
    "        dequeued_item=self.first\n",
    "        if temp == None:\n",
    "            self.first=None\n",
    "            self.length-=1\n",
    "        else:\n",
    "            self.first.next=None\n",
    "            self.first=temp\n",
    "            self.length-=1\n",
    "            \n",
    "    def printq(self):\n",
    "        temp=self.first\n",
    "        while temp!=None:\n",
    "            print(temp.data, end=' -> ')\n",
    "            temp=temp.next\n",
    "        print(  )\n",
    "        print('lenght:',self.length)\n",
    "        \n",
    "q=queue()\n",
    "q.enqueue(10)\n",
    "q.enqueue(20)\n",
    "q.enqueue(30)\n",
    "q.enqueue(40)\n",
    "q.dequeue()\n",
    "q.peek()\n",
    "q.printq()\n",
    "        "
   ]
  },
  {
   "cell_type": "code",
   "execution_count": null,
   "metadata": {},
   "outputs": [],
   "source": []
  }
 ],
 "metadata": {
  "kernelspec": {
   "display_name": "Python 3",
   "language": "python",
   "name": "python3"
  },
  "language_info": {
   "codemirror_mode": {
    "name": "ipython",
    "version": 3
   },
   "file_extension": ".py",
   "mimetype": "text/x-python",
   "name": "python",
   "nbconvert_exporter": "python",
   "pygments_lexer": "ipython3",
   "version": "3.8.3"
  }
 },
 "nbformat": 4,
 "nbformat_minor": 4
}
