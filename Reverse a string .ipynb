{
 "cells": [
  {
   "cell_type": "code",
   "execution_count": 2,
   "metadata": {},
   "outputs": [
    {
     "name": "stdout",
     "output_type": "stream",
     "text": [
      "Enter a string\n",
      "Nonehey hows it going\n"
     ]
    },
    {
     "data": {
      "text/plain": [
       "'gniog ti swoh yeh'"
      ]
     },
     "execution_count": 2,
     "metadata": {},
     "output_type": "execute_result"
    }
   ],
   "source": [
    "def reverse(str):\n",
    "    mylist=[]\n",
    "    for i in range(len(str)-1,-1,-1):\n",
    "        mylist.append(str[i])\n",
    "    return ''.join(mylist)\n",
    "\n",
    "string=input(print('Enter a string'))\n",
    "reverse(string)\n",
    "\n",
    "# or 'str[::-1]'"
   ]
  },
  {
   "cell_type": "code",
   "execution_count": null,
   "metadata": {},
   "outputs": [],
   "source": []
  }
 ],
 "metadata": {
  "kernelspec": {
   "display_name": "Python 3",
   "language": "python",
   "name": "python3"
  },
  "language_info": {
   "codemirror_mode": {
    "name": "ipython",
    "version": 3
   },
   "file_extension": ".py",
   "mimetype": "text/x-python",
   "name": "python",
   "nbconvert_exporter": "python",
   "pygments_lexer": "ipython3",
   "version": "3.8.3"
  }
 },
 "nbformat": 4,
 "nbformat_minor": 4
}
