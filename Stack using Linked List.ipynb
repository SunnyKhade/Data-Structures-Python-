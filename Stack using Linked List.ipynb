{
 "cells": [
  {
   "cell_type": "markdown",
   "metadata": {},
   "source": [
    "### Stack using Linked List"
   ]
  },
  {
   "cell_type": "code",
   "execution_count": 8,
   "metadata": {},
   "outputs": [
    {
     "name": "stdout",
     "output_type": "stream",
     "text": [
      "Microsoft -> Google -> \n"
     ]
    }
   ],
   "source": [
    "class Node:\n",
    "    def __init__(self,data):\n",
    "        self.data=data\n",
    "        self.next=None\n",
    "\n",
    "class stack:\n",
    "    def __init__(self):\n",
    "        self.top=None\n",
    "        self.bottom=None\n",
    "        self.length=0\n",
    "        \n",
    "    def peek(self):\n",
    "        return self.top.data\n",
    "    \n",
    "    def push(self,data):\n",
    "        new_node=Node(data)\n",
    "        if self.bottom==None:\n",
    "            self.bottom = new_node\n",
    "            self.top=self.bottom\n",
    "            self.length+=1\n",
    "        else:\n",
    "            new_node.next=self.top\n",
    "            self.top=new_node\n",
    "            self.length+=1\n",
    "            \n",
    "    def pop(self):\n",
    "        if self.length==0:\n",
    "            self.bottom=None\n",
    "        if not self.top:\n",
    "            return None\n",
    "        else:\n",
    "            holderpointer=self.top\n",
    "            self.top=self.top.next\n",
    "            self.length-=1\n",
    "        return holderpointer.data\n",
    "    \n",
    "    def prints(self):\n",
    "        temp = self.top\n",
    "        while temp!=None:\n",
    "            print(temp.data, end=' -> ')\n",
    "            temp=temp.next\n",
    "        print()\n",
    "        \n",
    "s=stack()\n",
    "s.push('Google')\n",
    "s.push('Microsoft')\n",
    "s.push('Apple')\n",
    "s.peek()\n",
    "s.pop()\n",
    "s.prints()        "
   ]
  },
  {
   "cell_type": "code",
   "execution_count": null,
   "metadata": {},
   "outputs": [],
   "source": []
  }
 ],
 "metadata": {
  "kernelspec": {
   "display_name": "Python 3",
   "language": "python",
   "name": "python3"
  },
  "language_info": {
   "codemirror_mode": {
    "name": "ipython",
    "version": 3
   },
   "file_extension": ".py",
   "mimetype": "text/x-python",
   "name": "python",
   "nbconvert_exporter": "python",
   "pygments_lexer": "ipython3",
   "version": "3.8.3"
  }
 },
 "nbformat": 4,
 "nbformat_minor": 4
}
