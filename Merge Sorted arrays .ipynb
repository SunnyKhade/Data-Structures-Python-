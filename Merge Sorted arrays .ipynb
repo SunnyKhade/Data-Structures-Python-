{
 "cells": [
  {
   "cell_type": "code",
   "execution_count": 1,
   "metadata": {},
   "outputs": [
    {
     "data": {
      "text/plain": [
       "[1, 2, 3, 4, 5]"
      ]
     },
     "execution_count": 1,
     "metadata": {},
     "output_type": "execute_result"
    }
   ],
   "source": [
    "def mergesortedarr(a,b):\n",
    "    if a==0 or b==0:\n",
    "        return a+b\n",
    "    \n",
    "    mylist=[]\n",
    "    i=0\n",
    "    j=0\n",
    "    \n",
    "    while i<len(a) and j<len(b):\n",
    "        if a[i]<=b[j]:\n",
    "            mylist.append(a[i])\n",
    "            i+=1\n",
    "        elif a[i]>b[j]:\n",
    "            mylist.append(b[j])\n",
    "            j+=1\n",
    "    \n",
    "    return mylist\n",
    "\n",
    "arr1=[1,3,5]\n",
    "arr2=[2,4,6]\n",
    "mergesortedarr(arr1,arr2)"
   ]
  },
  {
   "cell_type": "code",
   "execution_count": null,
   "metadata": {},
   "outputs": [],
   "source": []
  }
 ],
 "metadata": {
  "kernelspec": {
   "display_name": "Python 3",
   "language": "python",
   "name": "python3"
  },
  "language_info": {
   "codemirror_mode": {
    "name": "ipython",
    "version": 3
   },
   "file_extension": ".py",
   "mimetype": "text/x-python",
   "name": "python",
   "nbconvert_exporter": "python",
   "pygments_lexer": "ipython3",
   "version": "3.8.3"
  }
 },
 "nbformat": 4,
 "nbformat_minor": 4
}
