{
 "cells": [
  {
   "cell_type": "code",
   "execution_count": 1,
   "metadata": {},
   "outputs": [
    {
     "name": "stdout",
     "output_type": "stream",
     "text": [
      "{'length': 2, 'data': {0: 1, 1: 2}}\n"
     ]
    }
   ],
   "source": [
    "class myarray:\n",
    "    def __init__(self):\n",
    "        self.length=0\n",
    "        self.data={}\n",
    "    \n",
    "    def __str__(self):\n",
    "        return str(self.__dict__)\n",
    "    \n",
    "    def get(self,index):\n",
    "        return self.data[index]\n",
    "    \n",
    "    def push(self,item):\n",
    "        self.data[self.length]= item\n",
    "        self.length+=1\n",
    "        return self.data\n",
    "    \n",
    "    def pop(self):\n",
    "        lastitem = self.data[self.length-1]\n",
    "        del self.data[self.length-1]\n",
    "        self.length-=1\n",
    "        return lastitem\n",
    "    \n",
    "    def delete(self,index):\n",
    "        deleteditem= self.data[index]\n",
    "        for i in range(index,self.length-1):\n",
    "            self.data[i]=self.data[i+1]\n",
    "        \n",
    "        del self.data[self.length-1]\n",
    "        self.length-=1\n",
    "        return deleteditem\n",
    "    \n",
    "arr=myarray()\n",
    "arr.push(1)\n",
    "arr.push(2)\n",
    "arr.push(3)\n",
    "arr.push(4)\n",
    "arr.pop()\n",
    "arr.get(1)\n",
    "arr.delete(2)\n",
    "print(arr) "
   ]
  },
  {
   "cell_type": "code",
   "execution_count": null,
   "metadata": {},
   "outputs": [],
   "source": []
  }
 ],
 "metadata": {
  "kernelspec": {
   "display_name": "Python 3",
   "language": "python",
   "name": "python3"
  },
  "language_info": {
   "codemirror_mode": {
    "name": "ipython",
    "version": 3
   },
   "file_extension": ".py",
   "mimetype": "text/x-python",
   "name": "python",
   "nbconvert_exporter": "python",
   "pygments_lexer": "ipython3",
   "version": "3.8.3"
  }
 },
 "nbformat": 4,
 "nbformat_minor": 4
}
