{
 "cells": [
  {
   "cell_type": "markdown",
   "metadata": {},
   "source": [
    "### Hash Table implementation from scratch"
   ]
  },
  {
   "cell_type": "code",
   "execution_count": 12,
   "metadata": {},
   "outputs": [
    {
     "name": "stdout",
     "output_type": "stream",
     "text": [
      "{'bucket': 16, 'hashmap': [[], [], [], [], [], [['shoes', 55]], [['shirts', 100]], [], [], [], [], [], [], [], [], []]}\n"
     ]
    },
    {
     "data": {
      "text/plain": [
       "55"
      ]
     },
     "execution_count": 12,
     "metadata": {},
     "output_type": "execute_result"
    }
   ],
   "source": [
    "class Hashtable:\n",
    "    def __init__(self):\n",
    "        self.bucket=16\n",
    "        self.hashmap=[[]for i in range(self.bucket)]\n",
    "        \n",
    "    def __str__(self):\n",
    "        return str(self.__dict__)\n",
    "    \n",
    "    def hash(self, key):\n",
    "        return len(key) % self.bucket\n",
    "    \n",
    "    def put(self, key, value):\n",
    "        hashvalue=self.hash(key)\n",
    "        reference=self.hashmap[hashvalue]\n",
    "        for i in range(len(reference)):\n",
    "            if reference[i][0] == key:\n",
    "                reference[i][1] == value\n",
    "                return None \n",
    "        reference.append([key, value])\n",
    "        return None\n",
    "    \n",
    "    def get(self, key):\n",
    "        hashvalue=self.hash(key)\n",
    "        reference=self.hashmap[hashvalue]\n",
    "        for i in range(len(reference)):\n",
    "            if reference[i][0] == key:\n",
    "                return reference[i][1]\n",
    "        return -1\n",
    "    \n",
    "    def remove(self, key):\n",
    "        hashvalue=self.hash(key)\n",
    "        reference=self.hashmap[hashvalue]\n",
    "        for i in range(len(reference)):\n",
    "            if reference[i][0] == key:\n",
    "                reference.pop(i)\n",
    "                return None \n",
    "        return None\n",
    "    \n",
    "h = Hashtable()\n",
    "h.put('shirts', 100)\n",
    "h.put('jeans', 50)\n",
    "h.put('shoes', 55)\n",
    "h.remove('jeans')\n",
    "print(h)\n",
    "h.get('shoes')        "
   ]
  },
  {
   "cell_type": "code",
   "execution_count": null,
   "metadata": {},
   "outputs": [],
   "source": []
  }
 ],
 "metadata": {
  "kernelspec": {
   "display_name": "Python 3",
   "language": "python",
   "name": "python3"
  },
  "language_info": {
   "codemirror_mode": {
    "name": "ipython",
    "version": 3
   },
   "file_extension": ".py",
   "mimetype": "text/x-python",
   "name": "python",
   "nbconvert_exporter": "python",
   "pygments_lexer": "ipython3",
   "version": "3.8.3"
  }
 },
 "nbformat": 4,
 "nbformat_minor": 4
}
