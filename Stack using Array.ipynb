{
 "cells": [
  {
   "cell_type": "markdown",
   "metadata": {},
   "source": [
    "### Stack using Array"
   ]
  },
  {
   "cell_type": "code",
   "execution_count": 8,
   "metadata": {},
   "outputs": [
    {
     "name": "stdout",
     "output_type": "stream",
     "text": [
      "{'arr': ['facebook', 'linkedin'], 'length': 2}\n"
     ]
    }
   ],
   "source": [
    "class stack:\n",
    "    def __init__(self):\n",
    "        self.arr=[]\n",
    "        self.length=0\n",
    "    \n",
    "    def __str__(self):\n",
    "        return str(self.__dict__)\n",
    "        \n",
    "    def peek(self):\n",
    "        return self.arr[self.length-1]\n",
    "    \n",
    "    def push(self,data):\n",
    "        self.arr.append(data)\n",
    "        self.length+=1\n",
    "            \n",
    "    def pop(self):\n",
    "        poppeditem=self.arr[self.length-1]\n",
    "        del self.arr[self.length-1]\n",
    "        self.length-=1\n",
    "        return poppeditem\n",
    "\n",
    "s=stack()\n",
    "s.push('facebook')\n",
    "s.push('linkedin')\n",
    "s.push('instagram')\n",
    "s.peek()\n",
    "s.pop()\n",
    "print(s)    "
   ]
  },
  {
   "cell_type": "code",
   "execution_count": null,
   "metadata": {},
   "outputs": [],
   "source": []
  }
 ],
 "metadata": {
  "kernelspec": {
   "display_name": "Python 3",
   "language": "python",
   "name": "python3"
  },
  "language_info": {
   "codemirror_mode": {
    "name": "ipython",
    "version": 3
   },
   "file_extension": ".py",
   "mimetype": "text/x-python",
   "name": "python",
   "nbconvert_exporter": "python",
   "pygments_lexer": "ipython3",
   "version": "3.8.3"
  }
 },
 "nbformat": 4,
 "nbformat_minor": 4
}
