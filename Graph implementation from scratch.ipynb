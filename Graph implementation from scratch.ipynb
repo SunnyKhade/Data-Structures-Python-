{
 "cells": [
  {
   "cell_type": "markdown",
   "metadata": {},
   "source": [
    "### Graph implementation from scratch"
   ]
  },
  {
   "cell_type": "code",
   "execution_count": 17,
   "metadata": {},
   "outputs": [
    {
     "name": "stdout",
     "output_type": "stream",
     "text": [
      "0-->1 4 3  \n",
      "1-->0 2 5  \n",
      "2-->1 5  \n",
      "3-->4 0  \n",
      "4-->0 5 3  \n",
      "5-->1 2 4  \n",
      "Number of nodes= 6\n"
     ]
    }
   ],
   "source": [
    "class graph():\n",
    "    \n",
    "    def __init__(self):\n",
    "        self.numberofnodes=0\n",
    "        self.adjecentlist={}\n",
    "        \n",
    "    def __str__(self):\n",
    "        return str(self.__dict__)\n",
    "    \n",
    "    def addvertex(self,node):\n",
    "        self.adjecentlist[node]=[]\n",
    "        self.numberofnodes+=1\n",
    "        \n",
    "    def addedge(self,node1,node2):\n",
    "        self.adjecentlist[node1].append(node2)\n",
    "        self.adjecentlist[node2].append(node1)\n",
    "        \n",
    "    def showconnection(self):\n",
    "        for i in self.adjecentlist:\n",
    "            print(i, end=\"-->\")\n",
    "            for x in self.adjecentlist[i]:\n",
    "                print(x, end=\" \",)\n",
    "            print(\" \")\n",
    "              \n",
    "        print(\"Number of nodes=\",self.numberofnodes)       \n",
    "\n",
    "g=graph()\n",
    "g.addvertex(0)\n",
    "g.addvertex(1)\n",
    "g.addvertex(2)\n",
    "g.addvertex(3)\n",
    "g.addvertex(4)\n",
    "g.addvertex(5)\n",
    "g.addedge(0,1)\n",
    "g.addedge(0,4)\n",
    "g.addedge(1,2)\n",
    "g.addedge(1,5)\n",
    "g.addedge(2,5)\n",
    "g.addedge(5,4)\n",
    "g.addedge(4,3)\n",
    "g.addedge(3,0)\n",
    "g.showconnection()"
   ]
  },
  {
   "cell_type": "code",
   "execution_count": null,
   "metadata": {},
   "outputs": [],
   "source": []
  }
 ],
 "metadata": {
  "kernelspec": {
   "display_name": "Python 3",
   "language": "python",
   "name": "python3"
  },
  "language_info": {
   "codemirror_mode": {
    "name": "ipython",
    "version": 3
   },
   "file_extension": ".py",
   "mimetype": "text/x-python",
   "name": "python",
   "nbconvert_exporter": "python",
   "pygments_lexer": "ipython3",
   "version": "3.8.3"
  }
 },
 "nbformat": 4,
 "nbformat_minor": 4
}
